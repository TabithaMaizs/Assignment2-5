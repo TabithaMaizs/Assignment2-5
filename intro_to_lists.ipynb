{
  "nbformat": 4,
  "nbformat_minor": 0,
  "metadata": {
    "colab": {
      "provenance": [],
      "authorship_tag": "ABX9TyOIbUagDzyFnMZ7TNrkiqst",
      "include_colab_link": true
    },
    "kernelspec": {
      "name": "python3",
      "display_name": "Python 3"
    },
    "language_info": {
      "name": "python"
    }
  },
  "cells": [
    {
      "cell_type": "markdown",
      "metadata": {
        "id": "view-in-github",
        "colab_type": "text"
      },
      "source": [
        "<a href=\"https://colab.research.google.com/github/TabithaMaizs/Assignment2-5/blob/main/intro_to_lists.ipynb\" target=\"_parent\"><img src=\"https://colab.research.google.com/assets/colab-badge.svg\" alt=\"Open In Colab\"/></a>"
      ]
    },
    {
      "cell_type": "code",
      "execution_count": null,
      "metadata": {
        "id": "olI35qDZ0uQQ"
      },
      "outputs": [],
      "source": [
        "\n",
        "menu = ['stewed meat with onions', 'bean soup', 'risotto with trout and shrimp',\n",
        "       'fish soup with cream and onion', 'gyro']\n",
        "\n",
        "\n",
        "menu.remove('bean soup')\n",
        "menu.append('roasted beet salad')\n",
        "\n",
        "\n",
        "print(menu)\n"
      ]
    },
    {
      "cell_type": "code",
      "source": [
        "# Do not change: Number of customers each day for the last month\n",
        "num_customers = [137, 147, 135, 128, 170, 174, 165, 146, 126, 159,\n",
        "                 141, 148, 132, 147, 168, 153, 170, 161, 148, 152,\n",
        "                 141, 151, 131, 149, 164, 163, 143, 143, 166, 171]\n",
        "\n",
        "# TODO: Fill in values for the variables below\n",
        "avg_first_seven = sum(num_customers[:7]) / 7\n",
        "avg_last_seven = sum(num_customers[-7:]) / 7\n",
        "max_month = max(num_customers)\n",
        "min_month = min(num_customers)\n",
        "\n",
        "# Print results (optional)\n",
        "print( avg_first_seven)\n",
        "print(avg_last_seven)\n",
        "print( max_month)\n",
        "print( min_month)\n"
      ],
      "metadata": {
        "id": "7T2ge-Ns2CSU"
      },
      "execution_count": null,
      "outputs": []
    },
    {
      "cell_type": "code",
      "source": [
        "flowers = \"pink primrose,hard-leaved pocket orchid,canterbury bells,sweet pea,english marigold,tiger lily,moon orchid,bird of paradise,monkshood,globe thistle\"\n",
        " print(flowers.split(\",\"))\n",
        "\n",
        "alphabet = \"A.B.C.D.E.F.G.H.I.J.K.L.M.N.O.P.Q.R.S.T.U.V.W.X.Y.Z\"\n",
        "address = \"Mr. H. Potter,The cupboard under the Stairs,4 Privet Drive,Little Whinging,Surrey\"\n",
        "\n",
        "\n",
        "letters = alphabet.split(\".\")\n",
        "formatted_address = address.split(\",\")\n",
        "\n",
        "print( letters)\n",
        "print(formatted_address)\n"
      ],
      "metadata": {
        "id": "StE7gxrU3RD0"
      },
      "execution_count": null,
      "outputs": []
    },
    {
      "cell_type": "code",
      "source": [
        "def percentage_growth(num_users, yrs_ago):\n",
        "    past_value = num_users[len(num_users) - 1 - yrs_ago]\n",
        "    recent_value = num_users[-1]\n",
        "    growth = (recent_value - past_value) / past_value\n",
        "    return growth\n",
        "\n",
        "\n",
        "num_users_test = [920344, 1043553, 1204334, 1458996, 1503323, 1593432, 1623463, 1843064, 1930992, 2001078]\n",
        "print(percentage_growth(num_users_test, 1))\n",
        "\n",
        "print(percentage_growth(num_users_test, 7))\n"
      ],
      "metadata": {
        "id": "TRQeCYYD4I3m"
      },
      "execution_count": null,
      "outputs": []
    }
  ]
}