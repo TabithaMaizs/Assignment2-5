{
  "nbformat": 4,
  "nbformat_minor": 0,
  "metadata": {
    "colab": {
      "provenance": [],
      "authorship_tag": "ABX9TyPOQRl1xExneLv2V24QA9vH",
      "include_colab_link": true
    },
    "kernelspec": {
      "name": "python3",
      "display_name": "Python 3"
    },
    "language_info": {
      "name": "python"
    }
  },
  "cells": [
    {
      "cell_type": "markdown",
      "metadata": {
        "id": "view-in-github",
        "colab_type": "text"
      },
      "source": [
        "<a href=\"https://colab.research.google.com/github/TabithaMaizs/Assignment2-5/blob/main/Conditions_and_conditional_statements.ipynb\" target=\"_parent\"><img src=\"https://colab.research.google.com/assets/colab-badge.svg\" alt=\"Open In Colab\"/></a>"
      ]
    },
    {
      "cell_type": "code",
      "execution_count": null,
      "metadata": {
        "id": "EYkSbPyltFiD"
      },
      "outputs": [],
      "source": [
        "# Function to convert numerical scores to letter grades\n",
        "def get_grade(score):\n",
        "    if 90 <= score <= 100:\n",
        "        return \"A\"\n",
        "    elif 80 <= score <= 89:\n",
        "        return \"B\"\n",
        "    elif 70 <= score <= 79:\n",
        "        return \"C\"\n",
        "    elif 60 <= score <= 69:\n",
        "        return \"D\"\n",
        "    else:\n",
        "        return \"F\"\n",
        "\n",
        "\n",
        "print(get_grade(85))\n",
        "print(get_grade(49))\n",
        "print(get_grade(95))\n"
      ]
    },
    {
      "cell_type": "code",
      "source": [
        "def cost_of_project(engraving, solid_gold):\n",
        "    if solid_gold == True:\n",
        "        base_cost = 100\n",
        "        cost_per_unit = 10\n",
        "    else:\n",
        "        base_cost = 50\n",
        "        cost_per_unit = 7\n",
        "\n",
        "    # Calculate total cost\n",
        "    cost = base_cost + (len(engraving) * cost_per_unit)\n",
        "\n",
        "    return cost\n"
      ],
      "metadata": {
        "id": "FEHVKDY8tjyB"
      },
      "execution_count": null,
      "outputs": []
    },
    {
      "cell_type": "code",
      "source": [
        "def get_water_bill(num_gallons):\n",
        "    if num_gallons <= 8000:\n",
        "        price_per_1000 = 5\n",
        "    elif num_gallons <= 22000:\n",
        "        price_per_1000 = 6\n",
        "    elif num_gallons <= 30000:\n",
        "        price_per_1000 = 7\n",
        "    else:\n",
        "        price_per_1000 = 10\n",
        "\n",
        "    # Calculate total bill\n",
        "    bill = (num_gallons / 1000) * price_per_1000\n",
        "\n",
        "    return bill\n",
        "\n",
        "\n",
        "print(get_water_bill(10000))\n",
        "print(get_water_bill(25000))\n",
        "print(get_water_bill(5000))\n",
        "print(get_water_bill(35000))\n"
      ],
      "metadata": {
        "id": "t3JPw7bKuTP8"
      },
      "execution_count": null,
      "outputs": []
    },
    {
      "cell_type": "code",
      "source": [
        "def get_phone_bill(gb):\n",
        "    base_cost = 100\n",
        "    extra_rate_per_gb = 100\n",
        "\n",
        "    if gb <= 15:\n",
        "        return base_cost\n",
        "    else:\n",
        "        extra_gb = gb - 15\n",
        "        extra_cost = extra_gb * extra_rate_per_gb\n",
        "        return base_cost + extra_cost\n",
        "\n",
        "print(get_phone_bill(10))\n",
        "print(get_phone_bill(15))\n",
        "print(get_phone_bill(15.1))\n",
        "print(get_phone_bill(20))\n"
      ],
      "metadata": {
        "id": "dtRIkCV7u6cE"
      },
      "execution_count": null,
      "outputs": []
    },
    {
      "cell_type": "code",
      "source": [
        "def get_labels(food_type, serving_size, calories_per_serving, saturated_fat_g, trans_fat_g, sodium_mg, sugars_g):\n",
        "\n",
        "    if excess_sugar(sugars_g, calories_per_serving):\n",
        "        print(\"EXCESO AZÚCARES / EXCESS SUGAR\")\n",
        "    if excess_saturated_fat(saturated_fat_g, calories_per_serving):\n",
        "        print(\"EXCESO GRASAS SATURADAS / EXCESS SATURATED FAT\")\n",
        "    if excess_trans_fat(trans_fat_g, calories_per_serving):\n",
        "        print(\"EXCESO GRASAS TRANS / EXCESS TRANS FAT\")\n",
        "    if excess_sodium(calories_per_serving, sodium_mg):\n",
        "        print(\"EXCESO SODIO / EXCESS SODIUM\")\n",
        "    if excess_calories(food_type, calories_per_serving, serving_size):\n",
        "        print(\"EXCESO CALORÍAS / EXCESS CALORIES\")\n",
        "\n",
        "# Example usage for Bologna\n",
        "get_labels(\"solid\", 32, 110, 2.5, 0, 400, 1)"
      ],
      "metadata": {
        "id": "t-LZVDR8zInp"
      },
      "execution_count": null,
      "outputs": []
    },
    {
      "cell_type": "code",
      "source": [],
      "metadata": {
        "id": "B-bDglgPv1-_"
      },
      "execution_count": null,
      "outputs": []
    },
    {
      "cell_type": "code",
      "source": [],
      "metadata": {
        "id": "Ue3_MULbzGmh"
      },
      "execution_count": null,
      "outputs": []
    }
  ]
}