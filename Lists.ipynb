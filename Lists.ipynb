{
  "nbformat": 4,
  "nbformat_minor": 0,
  "metadata": {
    "colab": {
      "provenance": [],
      "authorship_tag": "ABX9TyO723ak4570CYg+nfdbbivZ",
      "include_colab_link": true
    },
    "kernelspec": {
      "name": "python3",
      "display_name": "Python 3"
    },
    "language_info": {
      "name": "python"
    }
  },
  "cells": [
    {
      "cell_type": "markdown",
      "metadata": {
        "id": "view-in-github",
        "colab_type": "text"
      },
      "source": [
        "<a href=\"https://colab.research.google.com/github/TabithaMaizs/Assignment2-5/blob/main/Lists.ipynb\" target=\"_parent\"><img src=\"https://colab.research.google.com/assets/colab-badge.svg\" alt=\"Open In Colab\"/></a>"
      ]
    },
    {
      "cell_type": "code",
      "execution_count": 2,
      "metadata": {
        "colab": {
          "base_uri": "https://localhost:8080/"
        },
        "id": "6TnjJYmdmGg2",
        "outputId": "a4e7e8da-e785-4f83-83c1-acadce3ecc01"
      },
      "outputs": [
        {
          "output_type": "stream",
          "name": "stdout",
          "text": [
            "1.0\n",
            "<class 'float'>\n",
            "1\n",
            "<class 'int'>\n",
            "1\n",
            "1\n",
            "-3\n",
            "-2\n"
          ]
        }
      ],
      "source": [
        "# Define a float\n",
        "y = 1.\n",
        "print(y)\n",
        "print(type(y))\n",
        "\n",
        "# Convert float to integer with the int function\n",
        "z = int(y)\n",
        "print(z)\n",
        "print(type(z))\n",
        "print(int(1.2321))\n",
        "print(int(1.747))\n",
        "print(int(-3.94535))\n",
        "print(int(-2.19774))\n"
      ]
    },
    {
      "cell_type": "code",
      "source": [
        "print(3 * True)\n",
        "print(-3.1 * True)\n",
        "print(type(\"abc\" * False))\n",
        "print(len(\"abc\" * False))"
      ],
      "metadata": {
        "id": "OZpbk-rmmUWH"
      },
      "execution_count": null,
      "outputs": []
    },
    {
      "cell_type": "code",
      "source": [
        "# TODO: Complete the function\n",
        "def get_expected_cost(beds, baths, has_basement):\n",
        "    base_price = 80000\n",
        "    cost_per_bedroom = 30000\n",
        "    cost_per_bathroom = 10000\n",
        "    basement_cost = 40000 if has_basement else 0\n",
        "\n",
        "    value = base_price + (beds * cost_per_bedroom) + (baths * cost_per_bathroom) + basement_cost\n",
        "    return value\n",
        "\n"
      ],
      "metadata": {
        "id": "cgzTsj1Pphgo"
      },
      "execution_count": null,
      "outputs": []
    },
    {
      "cell_type": "code",
      "source": [
        "print(False + False)\n",
        "print(True + False)\n",
        "print(False + True)\n",
        "print(True + True)\n",
        "print(False + True + True + True)"
      ],
      "metadata": {
        "id": "sxE4oi7AqQIL"
      },
      "execution_count": null,
      "outputs": []
    },
    {
      "cell_type": "code",
      "source": [
        "def cost_of_project(engraving, solid_gold):\n",
        "\n",
        "    base_cost = 100 if solid_gold else 50\n",
        "    cost_per_unit = 10 if solid_gold else 7\n",
        "\n",
        "    # Calculate total cost\n",
        "    cost = base_cost + (len(engraving) * cost_per_unit)\n",
        "\n",
        "    return cost\n",
        "    project_one = cost_of_project(\"Charlie+Denver\", True)\n",
        "    print(project_one)\n",
        "    project_one = cost_of_project(\"Charlie+Denver\", True)\n",
        "    print(project_one)\n",
        "\n",
        "\n",
        "\n"
      ],
      "metadata": {
        "id": "EMn-vuVYqsF0"
      },
      "execution_count": null,
      "outputs": []
    }
  ]
}