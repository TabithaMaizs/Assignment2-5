{
  "nbformat": 4,
  "nbformat_minor": 0,
  "metadata": {
    "colab": {
      "provenance": [],
      "authorship_tag": "ABX9TyN7iPlVRVs0OQFzbo2sMsjI",
      "include_colab_link": true
    },
    "kernelspec": {
      "name": "python3",
      "display_name": "Python 3"
    },
    "language_info": {
      "name": "python"
    }
  },
  "cells": [
    {
      "cell_type": "markdown",
      "metadata": {
        "id": "view-in-github",
        "colab_type": "text"
      },
      "source": [
        "<a href=\"https://colab.research.google.com/github/TabithaMaizs/Assignment2-5/blob/main/Functions.ipynb\" target=\"_parent\"><img src=\"https://colab.research.google.com/assets/colab-badge.svg\" alt=\"Open In Colab\"/></a>"
      ]
    },
    {
      "cell_type": "code",
      "execution_count": null,
      "metadata": {
        "id": "KJ4FqoMIe3CT"
      },
      "outputs": [],
      "source": [
        "# TODO: Complete the function\n",
        "def get_expected_cost(beds, baths):\n",
        "    value = 80000 + (beds * 30000) + (baths * 10000)\n",
        "    return value\n"
      ]
    },
    {
      "cell_type": "code",
      "source": [
        "\n",
        "\n",
        "# Calculate expected costs for each option\n",
        "option_1 = get_expected_cost(2, 3)\n",
        "option_2 = get_expected_cost(3, 2)\n",
        "option_3 = get_expected_cost(3, 3)\n",
        "option_4 = get_expected_cost(3, 4)\n",
        "\n",
        "# Print results\n",
        "print(option_1)\n",
        "print( option_2)\n",
        "print(option_3)\n",
        "print(option_4)\n"
      ],
      "metadata": {
        "id": "IkdSiMomfAOo"
      },
      "execution_count": null,
      "outputs": []
    },
    {
      "cell_type": "code",
      "source": [
        "\n",
        "def get_cost(sqft_walls, sqft_ceiling, sqft_per_gallon, cost_per_gallon):\n",
        "    total_sqft = sqft_walls + sqft_ceiling\n",
        "    gallons_needed = total_sqft / sqft_per_gallon\n",
        "    cost = gallons_needed * cost_per_gallon\n",
        "    return cost\n"
      ],
      "metadata": {
        "id": "RzInR860fg7z"
      },
      "execution_count": null,
      "outputs": []
    },
    {
      "cell_type": "code",
      "source": [],
      "metadata": {
        "id": "Uh7b__v0hM6T"
      },
      "execution_count": null,
      "outputs": []
    },
    {
      "cell_type": "code",
      "source": [
        "\n",
        "def get_cost(sqft_walls, sqft_ceiling, sqft_per_gallon, cost_per_gallon):\n",
        "    total_sqft = sqft_walls + sqft_ceiling\n",
        "    gallons_needed = total_sqft / sqft_per_gallon\n",
        "    cost = gallons_needed * cost_per_gallon\n",
        "    return cost\n",
        "\n",
        "# TODO: Set the project_cost variable to the cost of the project\n",
        "project_cost = get_cost(432, 144, 400, 15)\n",
        "print(project_cost)\n"
      ],
      "metadata": {
        "id": "VrQlhCeRf7o1"
      },
      "execution_count": null,
      "outputs": []
    },
    {
      "cell_type": "code",
      "source": [
        "import math\n",
        "\n",
        "test_value = 2.17\n",
        "\n",
        "rounded_value = math.ceil(test_value)\n",
        "print(rounded_value)\n"
      ],
      "metadata": {
        "colab": {
          "base_uri": "https://localhost:8080/"
        },
        "id": "N4GrBLNOhPE-",
        "outputId": "02b08fb1-e188-45a5-c4b1-d54f8f2ccc91"
      },
      "execution_count": 1,
      "outputs": [
        {
          "output_type": "stream",
          "name": "stdout",
          "text": [
            "3\n"
          ]
        }
      ]
    }
  ]
}